{
 "cells": [
  {
   "cell_type": "code",
   "execution_count": 6,
   "id": "495f7758-7eb6-4007-864b-438b67ea9b6f",
   "metadata": {},
   "outputs": [],
   "source": [
    "import csv"
   ]
  },
  {
   "cell_type": "code",
   "execution_count": 7,
   "id": "fc59f1c9-93d2-47d4-b242-0f3f9d903c3b",
   "metadata": {
    "tags": []
   },
   "outputs": [],
   "source": [
    "\n",
    "attrs = [\n",
    "    [\"lung\", \"head & neck\", \"esophasus\", \"thyroid\", \"stomach\", \"duoden & sm.int\", \"colon\", \"rectum\", \"anus\", \\\n",
    "     \"salivary glands\", \"pancreas\", \"gallbladder\", \"liver\", \"kidney\", \"bladder\", \"testis\", \"prostate\", \\\n",
    "     \"ovary\", \"corpus uteri\", \"cervix uteri\", \"vagina\", \"breast\"],\n",
    "    ['<30', '30-59','>=60'],\n",
    "    ['male', 'female'],\n",
    "    ['epidermoid', 'adeno','anaplastic'],\n",
    "    ['well', 'fairly', 'poorly'],\n",
    "    ['affects-bone'],\n",
    "    ['affects-bone-marrow'],\n",
    "    ['affects-lung'],\n",
    "    ['affects-pleura'],\n",
    "    ['affects-peritoneum'],\n",
    "    ['affects-liver'],\n",
    "    ['affects-brain'],\n",
    "    ['affects-skin'],\n",
    "    ['affects-neck'],\n",
    "    ['affects-supraclavicular'],\n",
    "    ['affects-axillar'],\n",
    "    ['affects-mediastinum'],\n",
    "    ['affects-abdominal']\n",
    "]"
   ]
  },
  {
   "cell_type": "code",
   "execution_count": 8,
   "id": "54d63c20-6f2e-4538-9ebb-e2d2b9c67bf4",
   "metadata": {
    "tags": []
   },
   "outputs": [],
   "source": [
    "with open(\"primary_tumor_data.csv\", newline='') as tumor_data_file, open(\"data_in_strings.csv\", \"w\", newline='') as output_file:\n",
    "    tumor_data = csv.reader(tumor_data_file, delimiter=' ', quotechar='|')\n",
    "    writer = csv.writer(output_file, delimiter=',')\n",
    "    \n",
    "    for row in tumor_data:\n",
    "        line = []\n",
    "        # '1,2,2,1,3'\n",
    "        row = row[0].split(',')\n",
    "        for counter, elem in enumerate(row):\n",
    "            if elem == '?':\n",
    "                continue\n",
    "            if counter > 4:\n",
    "                if elem == '1':\n",
    "                    line.append(attrs[counter][0])\n",
    "            else:\n",
    "                line.append(attrs[counter][int(elem)-1])\n",
    "        writer.writerow(line)"
   ]
  },
  {
   "cell_type": "code",
   "execution_count": null,
   "id": "c9ac3a5d-6473-45ef-89a4-4e9eb6c1e10d",
   "metadata": {},
   "outputs": [],
   "source": []
  }
 ],
 "metadata": {
  "kernelspec": {
   "display_name": "Python 3 (ipykernel)",
   "language": "python",
   "name": "python3"
  },
  "language_info": {
   "codemirror_mode": {
    "name": "ipython",
    "version": 3
   },
   "file_extension": ".py",
   "mimetype": "text/x-python",
   "name": "python",
   "nbconvert_exporter": "python",
   "pygments_lexer": "ipython3",
   "version": "3.10.0"
  }
 },
 "nbformat": 4,
 "nbformat_minor": 5
}
